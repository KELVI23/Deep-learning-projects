{
 "cells": [
  {
   "cell_type": "markdown",
   "id": "5e651a5e-bdea-40c6-8e69-5bb3325c6100",
   "metadata": {},
   "source": [
    "# Project"
   ]
  },
  {
   "cell_type": "code",
   "execution_count": null,
   "id": "b84d45da-2694-435c-a0a4-e6ba5e8f1b66",
   "metadata": {},
   "outputs": [],
   "source": []
  },
  {
   "cell_type": "markdown",
   "id": "f7744c93-395a-4646-8a66-7ec350bb47ab",
   "metadata": {},
   "source": [
    "## Import libraries"
   ]
  },
  {
   "cell_type": "code",
   "execution_count": 1,
   "id": "6fe3a828-a1ab-4ba4-8bb7-e1cc505e731c",
   "metadata": {
    "tags": []
   },
   "outputs": [
    {
     "name": "stderr",
     "output_type": "stream",
     "text": [
      "/home/jupyterlab/conda/envs/python/lib/python3.7/site-packages/sklearn/utils/validation.py:37: DeprecationWarning: distutils Version classes are deprecated. Use packaging.version instead.\n",
      "  LARGE_SPARSE_SUPPORTED = LooseVersion(scipy_version) >= '0.14.0'\n"
     ]
    }
   ],
   "source": [
    "#!pip install numpy==1.21.4\n",
    "#!pip install pandas==1.3.4\n",
    "#!pip install keras==2.1.6\n",
    "import pandas as pd\n",
    "import numpy as np\n",
    "import sklearn\n",
    "from sklearn.model_selection import train_test_split\n",
    "from sklearn.metrics import mean_squared_error"
   ]
  },
  {
   "cell_type": "markdown",
   "id": "164cdaf2-bac8-4a05-9a69-6205b2f9bb67",
   "metadata": {
    "tags": []
   },
   "source": [
    "## Download and preprocess data"
   ]
  },
  {
   "cell_type": "markdown",
   "id": "0d74437e-956b-48fd-9683-6c8fdf75150b",
   "metadata": {},
   "source": [
    "<strong>The dataset is about the compressive strength of different samples of concrete based on the volumes of the different ingredients that were used to make them. Ingredients include:</strong>\n",
    "\n",
    "<strong>1. Cement</strong>\n",
    "\n",
    "<strong>2. Blast Furnace Slag</strong>\n",
    "\n",
    "<strong>3. Fly Ash</strong>\n",
    "\n",
    "<strong>4. Water</strong>\n",
    "\n",
    "<strong>5. Superplasticizer</strong>\n",
    "\n",
    "<strong>6. Coarse Aggregate</strong>\n",
    "\n",
    "<strong>7. Fine Aggregate</strong>\n"
   ]
  },
  {
   "cell_type": "code",
   "execution_count": 2,
   "id": "0e1a7c4f-088c-4b96-bf92-efac21e94bf6",
   "metadata": {
    "tags": []
   },
   "outputs": [
    {
     "data": {
      "text/html": [
       "<div>\n",
       "<style scoped>\n",
       "    .dataframe tbody tr th:only-of-type {\n",
       "        vertical-align: middle;\n",
       "    }\n",
       "\n",
       "    .dataframe tbody tr th {\n",
       "        vertical-align: top;\n",
       "    }\n",
       "\n",
       "    .dataframe thead th {\n",
       "        text-align: right;\n",
       "    }\n",
       "</style>\n",
       "<table border=\"1\" class=\"dataframe\">\n",
       "  <thead>\n",
       "    <tr style=\"text-align: right;\">\n",
       "      <th></th>\n",
       "      <th>Cement</th>\n",
       "      <th>Blast Furnace Slag</th>\n",
       "      <th>Fly Ash</th>\n",
       "      <th>Water</th>\n",
       "      <th>Superplasticizer</th>\n",
       "      <th>Coarse Aggregate</th>\n",
       "      <th>Fine Aggregate</th>\n",
       "      <th>Age</th>\n",
       "      <th>Strength</th>\n",
       "    </tr>\n",
       "  </thead>\n",
       "  <tbody>\n",
       "    <tr>\n",
       "      <th>0</th>\n",
       "      <td>540.0</td>\n",
       "      <td>0.0</td>\n",
       "      <td>0.0</td>\n",
       "      <td>162.0</td>\n",
       "      <td>2.5</td>\n",
       "      <td>1040.0</td>\n",
       "      <td>676.0</td>\n",
       "      <td>28</td>\n",
       "      <td>79.99</td>\n",
       "    </tr>\n",
       "    <tr>\n",
       "      <th>1</th>\n",
       "      <td>540.0</td>\n",
       "      <td>0.0</td>\n",
       "      <td>0.0</td>\n",
       "      <td>162.0</td>\n",
       "      <td>2.5</td>\n",
       "      <td>1055.0</td>\n",
       "      <td>676.0</td>\n",
       "      <td>28</td>\n",
       "      <td>61.89</td>\n",
       "    </tr>\n",
       "    <tr>\n",
       "      <th>2</th>\n",
       "      <td>332.5</td>\n",
       "      <td>142.5</td>\n",
       "      <td>0.0</td>\n",
       "      <td>228.0</td>\n",
       "      <td>0.0</td>\n",
       "      <td>932.0</td>\n",
       "      <td>594.0</td>\n",
       "      <td>270</td>\n",
       "      <td>40.27</td>\n",
       "    </tr>\n",
       "    <tr>\n",
       "      <th>3</th>\n",
       "      <td>332.5</td>\n",
       "      <td>142.5</td>\n",
       "      <td>0.0</td>\n",
       "      <td>228.0</td>\n",
       "      <td>0.0</td>\n",
       "      <td>932.0</td>\n",
       "      <td>594.0</td>\n",
       "      <td>365</td>\n",
       "      <td>41.05</td>\n",
       "    </tr>\n",
       "    <tr>\n",
       "      <th>4</th>\n",
       "      <td>198.6</td>\n",
       "      <td>132.4</td>\n",
       "      <td>0.0</td>\n",
       "      <td>192.0</td>\n",
       "      <td>0.0</td>\n",
       "      <td>978.4</td>\n",
       "      <td>825.5</td>\n",
       "      <td>360</td>\n",
       "      <td>44.30</td>\n",
       "    </tr>\n",
       "  </tbody>\n",
       "</table>\n",
       "</div>"
      ],
      "text/plain": [
       "   Cement  Blast Furnace Slag  Fly Ash  Water  Superplasticizer  \\\n",
       "0   540.0                 0.0      0.0  162.0               2.5   \n",
       "1   540.0                 0.0      0.0  162.0               2.5   \n",
       "2   332.5               142.5      0.0  228.0               0.0   \n",
       "3   332.5               142.5      0.0  228.0               0.0   \n",
       "4   198.6               132.4      0.0  192.0               0.0   \n",
       "\n",
       "   Coarse Aggregate  Fine Aggregate  Age  Strength  \n",
       "0            1040.0           676.0   28     79.99  \n",
       "1            1055.0           676.0   28     61.89  \n",
       "2             932.0           594.0  270     40.27  \n",
       "3             932.0           594.0  365     41.05  \n",
       "4             978.4           825.5  360     44.30  "
      ]
     },
     "execution_count": 2,
     "metadata": {},
     "output_type": "execute_result"
    }
   ],
   "source": [
    "concrete_data = pd.read_csv('https://s3-api.us-geo.objectstorage.softlayer.net/cf-courses-data/CognitiveClass/DL0101EN/labs/data/concrete_data.csv')\n",
    "concrete_data.head()"
   ]
  },
  {
   "cell_type": "markdown",
   "id": "fcf2618e-be45-43d5-87dc-cf9dcfb08af1",
   "metadata": {},
   "source": [
    "The first concrete sample has 540 cubic meter of cement, 0 cubic meter of blast furnace slag, 0 cubic meter of fly ash, 162 cubic meter of water, 2.5 cubic meter of superplaticizer, 1040 cubic meter of coarse aggregate, 676 cubic meter of fine aggregate. Such a concrete mix which is 28 days old, has a compressive strength of 79.99 MPa. \n"
   ]
  },
  {
   "cell_type": "code",
   "execution_count": 3,
   "id": "947bb385-d8e2-4194-b6e2-867a509e6ce0",
   "metadata": {
    "tags": []
   },
   "outputs": [
    {
     "name": "stdout",
     "output_type": "stream",
     "text": [
      "The data has (1030, 9) datapoints\n"
     ]
    }
   ],
   "source": [
    "print('The data has {} datapoints'.format(concrete_data.shape))"
   ]
  },
  {
   "cell_type": "code",
   "execution_count": 4,
   "id": "178b14c9-5410-46d3-9ca7-653a7afcb31e",
   "metadata": {
    "tags": []
   },
   "outputs": [
    {
     "data": {
      "text/html": [
       "<div>\n",
       "<style scoped>\n",
       "    .dataframe tbody tr th:only-of-type {\n",
       "        vertical-align: middle;\n",
       "    }\n",
       "\n",
       "    .dataframe tbody tr th {\n",
       "        vertical-align: top;\n",
       "    }\n",
       "\n",
       "    .dataframe thead th {\n",
       "        text-align: right;\n",
       "    }\n",
       "</style>\n",
       "<table border=\"1\" class=\"dataframe\">\n",
       "  <thead>\n",
       "    <tr style=\"text-align: right;\">\n",
       "      <th></th>\n",
       "      <th>Cement</th>\n",
       "      <th>Blast Furnace Slag</th>\n",
       "      <th>Fly Ash</th>\n",
       "      <th>Water</th>\n",
       "      <th>Superplasticizer</th>\n",
       "      <th>Coarse Aggregate</th>\n",
       "      <th>Fine Aggregate</th>\n",
       "      <th>Age</th>\n",
       "      <th>Strength</th>\n",
       "    </tr>\n",
       "  </thead>\n",
       "  <tbody>\n",
       "    <tr>\n",
       "      <th>count</th>\n",
       "      <td>1030.000000</td>\n",
       "      <td>1030.000000</td>\n",
       "      <td>1030.000000</td>\n",
       "      <td>1030.000000</td>\n",
       "      <td>1030.000000</td>\n",
       "      <td>1030.000000</td>\n",
       "      <td>1030.000000</td>\n",
       "      <td>1030.000000</td>\n",
       "      <td>1030.000000</td>\n",
       "    </tr>\n",
       "    <tr>\n",
       "      <th>mean</th>\n",
       "      <td>281.167864</td>\n",
       "      <td>73.895825</td>\n",
       "      <td>54.188350</td>\n",
       "      <td>181.567282</td>\n",
       "      <td>6.204660</td>\n",
       "      <td>972.918932</td>\n",
       "      <td>773.580485</td>\n",
       "      <td>45.662136</td>\n",
       "      <td>35.817961</td>\n",
       "    </tr>\n",
       "    <tr>\n",
       "      <th>std</th>\n",
       "      <td>104.506364</td>\n",
       "      <td>86.279342</td>\n",
       "      <td>63.997004</td>\n",
       "      <td>21.354219</td>\n",
       "      <td>5.973841</td>\n",
       "      <td>77.753954</td>\n",
       "      <td>80.175980</td>\n",
       "      <td>63.169912</td>\n",
       "      <td>16.705742</td>\n",
       "    </tr>\n",
       "    <tr>\n",
       "      <th>min</th>\n",
       "      <td>102.000000</td>\n",
       "      <td>0.000000</td>\n",
       "      <td>0.000000</td>\n",
       "      <td>121.800000</td>\n",
       "      <td>0.000000</td>\n",
       "      <td>801.000000</td>\n",
       "      <td>594.000000</td>\n",
       "      <td>1.000000</td>\n",
       "      <td>2.330000</td>\n",
       "    </tr>\n",
       "    <tr>\n",
       "      <th>25%</th>\n",
       "      <td>192.375000</td>\n",
       "      <td>0.000000</td>\n",
       "      <td>0.000000</td>\n",
       "      <td>164.900000</td>\n",
       "      <td>0.000000</td>\n",
       "      <td>932.000000</td>\n",
       "      <td>730.950000</td>\n",
       "      <td>7.000000</td>\n",
       "      <td>23.710000</td>\n",
       "    </tr>\n",
       "    <tr>\n",
       "      <th>50%</th>\n",
       "      <td>272.900000</td>\n",
       "      <td>22.000000</td>\n",
       "      <td>0.000000</td>\n",
       "      <td>185.000000</td>\n",
       "      <td>6.400000</td>\n",
       "      <td>968.000000</td>\n",
       "      <td>779.500000</td>\n",
       "      <td>28.000000</td>\n",
       "      <td>34.445000</td>\n",
       "    </tr>\n",
       "    <tr>\n",
       "      <th>75%</th>\n",
       "      <td>350.000000</td>\n",
       "      <td>142.950000</td>\n",
       "      <td>118.300000</td>\n",
       "      <td>192.000000</td>\n",
       "      <td>10.200000</td>\n",
       "      <td>1029.400000</td>\n",
       "      <td>824.000000</td>\n",
       "      <td>56.000000</td>\n",
       "      <td>46.135000</td>\n",
       "    </tr>\n",
       "    <tr>\n",
       "      <th>max</th>\n",
       "      <td>540.000000</td>\n",
       "      <td>359.400000</td>\n",
       "      <td>200.100000</td>\n",
       "      <td>247.000000</td>\n",
       "      <td>32.200000</td>\n",
       "      <td>1145.000000</td>\n",
       "      <td>992.600000</td>\n",
       "      <td>365.000000</td>\n",
       "      <td>82.600000</td>\n",
       "    </tr>\n",
       "  </tbody>\n",
       "</table>\n",
       "</div>"
      ],
      "text/plain": [
       "            Cement  Blast Furnace Slag      Fly Ash        Water  \\\n",
       "count  1030.000000         1030.000000  1030.000000  1030.000000   \n",
       "mean    281.167864           73.895825    54.188350   181.567282   \n",
       "std     104.506364           86.279342    63.997004    21.354219   \n",
       "min     102.000000            0.000000     0.000000   121.800000   \n",
       "25%     192.375000            0.000000     0.000000   164.900000   \n",
       "50%     272.900000           22.000000     0.000000   185.000000   \n",
       "75%     350.000000          142.950000   118.300000   192.000000   \n",
       "max     540.000000          359.400000   200.100000   247.000000   \n",
       "\n",
       "       Superplasticizer  Coarse Aggregate  Fine Aggregate          Age  \\\n",
       "count       1030.000000       1030.000000     1030.000000  1030.000000   \n",
       "mean           6.204660        972.918932      773.580485    45.662136   \n",
       "std            5.973841         77.753954       80.175980    63.169912   \n",
       "min            0.000000        801.000000      594.000000     1.000000   \n",
       "25%            0.000000        932.000000      730.950000     7.000000   \n",
       "50%            6.400000        968.000000      779.500000    28.000000   \n",
       "75%           10.200000       1029.400000      824.000000    56.000000   \n",
       "max           32.200000       1145.000000      992.600000   365.000000   \n",
       "\n",
       "          Strength  \n",
       "count  1030.000000  \n",
       "mean     35.817961  \n",
       "std      16.705742  \n",
       "min       2.330000  \n",
       "25%      23.710000  \n",
       "50%      34.445000  \n",
       "75%      46.135000  \n",
       "max      82.600000  "
      ]
     },
     "execution_count": 4,
     "metadata": {},
     "output_type": "execute_result"
    }
   ],
   "source": [
    "concrete_data.describe()"
   ]
  },
  {
   "cell_type": "markdown",
   "id": "07fb18d5-7025-4ec9-8785-b96722eb275a",
   "metadata": {},
   "source": [
    "#### Check if there is missing data"
   ]
  },
  {
   "cell_type": "code",
   "execution_count": 5,
   "id": "8ffadc83-ad43-4678-948f-487df46943f7",
   "metadata": {
    "tags": []
   },
   "outputs": [
    {
     "data": {
      "text/plain": [
       "Cement                0\n",
       "Blast Furnace Slag    0\n",
       "Fly Ash               0\n",
       "Water                 0\n",
       "Superplasticizer      0\n",
       "Coarse Aggregate      0\n",
       "Fine Aggregate        0\n",
       "Age                   0\n",
       "Strength              0\n",
       "dtype: int64"
      ]
     },
     "execution_count": 5,
     "metadata": {},
     "output_type": "execute_result"
    }
   ],
   "source": [
    "concrete_data.isnull().sum()"
   ]
  },
  {
   "cell_type": "markdown",
   "id": "837dd657-c9ea-479b-a194-2e2df9ffb314",
   "metadata": {},
   "source": [
    "### Split data into predictors and target"
   ]
  },
  {
   "cell_type": "code",
   "execution_count": 6,
   "id": "8fcc5a27-0303-4e0a-99ac-da6ffdc062dc",
   "metadata": {
    "tags": []
   },
   "outputs": [],
   "source": [
    "concrete_data_columns = concrete_data.columns\n",
    "\n",
    "predictors = concrete_data[concrete_data_columns[concrete_data_columns != 'Strength']] # all columns except strength\n",
    "target = concrete_data['Strength']"
   ]
  },
  {
   "cell_type": "code",
   "execution_count": 7,
   "id": "8a96470c-5b5e-489f-bc8b-85a5b53df7ef",
   "metadata": {
    "tags": []
   },
   "outputs": [
    {
     "data": {
      "text/html": [
       "<div>\n",
       "<style scoped>\n",
       "    .dataframe tbody tr th:only-of-type {\n",
       "        vertical-align: middle;\n",
       "    }\n",
       "\n",
       "    .dataframe tbody tr th {\n",
       "        vertical-align: top;\n",
       "    }\n",
       "\n",
       "    .dataframe thead th {\n",
       "        text-align: right;\n",
       "    }\n",
       "</style>\n",
       "<table border=\"1\" class=\"dataframe\">\n",
       "  <thead>\n",
       "    <tr style=\"text-align: right;\">\n",
       "      <th></th>\n",
       "      <th>Cement</th>\n",
       "      <th>Blast Furnace Slag</th>\n",
       "      <th>Fly Ash</th>\n",
       "      <th>Water</th>\n",
       "      <th>Superplasticizer</th>\n",
       "      <th>Coarse Aggregate</th>\n",
       "      <th>Fine Aggregate</th>\n",
       "      <th>Age</th>\n",
       "    </tr>\n",
       "  </thead>\n",
       "  <tbody>\n",
       "    <tr>\n",
       "      <th>0</th>\n",
       "      <td>540.0</td>\n",
       "      <td>0.0</td>\n",
       "      <td>0.0</td>\n",
       "      <td>162.0</td>\n",
       "      <td>2.5</td>\n",
       "      <td>1040.0</td>\n",
       "      <td>676.0</td>\n",
       "      <td>28</td>\n",
       "    </tr>\n",
       "    <tr>\n",
       "      <th>1</th>\n",
       "      <td>540.0</td>\n",
       "      <td>0.0</td>\n",
       "      <td>0.0</td>\n",
       "      <td>162.0</td>\n",
       "      <td>2.5</td>\n",
       "      <td>1055.0</td>\n",
       "      <td>676.0</td>\n",
       "      <td>28</td>\n",
       "    </tr>\n",
       "    <tr>\n",
       "      <th>2</th>\n",
       "      <td>332.5</td>\n",
       "      <td>142.5</td>\n",
       "      <td>0.0</td>\n",
       "      <td>228.0</td>\n",
       "      <td>0.0</td>\n",
       "      <td>932.0</td>\n",
       "      <td>594.0</td>\n",
       "      <td>270</td>\n",
       "    </tr>\n",
       "    <tr>\n",
       "      <th>3</th>\n",
       "      <td>332.5</td>\n",
       "      <td>142.5</td>\n",
       "      <td>0.0</td>\n",
       "      <td>228.0</td>\n",
       "      <td>0.0</td>\n",
       "      <td>932.0</td>\n",
       "      <td>594.0</td>\n",
       "      <td>365</td>\n",
       "    </tr>\n",
       "    <tr>\n",
       "      <th>4</th>\n",
       "      <td>198.6</td>\n",
       "      <td>132.4</td>\n",
       "      <td>0.0</td>\n",
       "      <td>192.0</td>\n",
       "      <td>0.0</td>\n",
       "      <td>978.4</td>\n",
       "      <td>825.5</td>\n",
       "      <td>360</td>\n",
       "    </tr>\n",
       "  </tbody>\n",
       "</table>\n",
       "</div>"
      ],
      "text/plain": [
       "   Cement  Blast Furnace Slag  Fly Ash  Water  Superplasticizer  \\\n",
       "0   540.0                 0.0      0.0  162.0               2.5   \n",
       "1   540.0                 0.0      0.0  162.0               2.5   \n",
       "2   332.5               142.5      0.0  228.0               0.0   \n",
       "3   332.5               142.5      0.0  228.0               0.0   \n",
       "4   198.6               132.4      0.0  192.0               0.0   \n",
       "\n",
       "   Coarse Aggregate  Fine Aggregate  Age  \n",
       "0            1040.0           676.0   28  \n",
       "1            1055.0           676.0   28  \n",
       "2             932.0           594.0  270  \n",
       "3             932.0           594.0  365  \n",
       "4             978.4           825.5  360  "
      ]
     },
     "execution_count": 7,
     "metadata": {},
     "output_type": "execute_result"
    }
   ],
   "source": [
    "predictors.head()"
   ]
  },
  {
   "cell_type": "code",
   "execution_count": 8,
   "id": "27bde3a6-2427-41d4-9951-3458607a5126",
   "metadata": {
    "tags": []
   },
   "outputs": [
    {
     "data": {
      "text/plain": [
       "0    79.99\n",
       "1    61.89\n",
       "2    40.27\n",
       "3    41.05\n",
       "4    44.30\n",
       "Name: Strength, dtype: float64"
      ]
     },
     "execution_count": 8,
     "metadata": {},
     "output_type": "execute_result"
    }
   ],
   "source": [
    "target.head()"
   ]
  },
  {
   "cell_type": "markdown",
   "id": "072d612a-b274-4457-8607-9f73ed70e6af",
   "metadata": {},
   "source": [
    "### Normalize the data - subtract mean and divide by standard deviation"
   ]
  },
  {
   "cell_type": "code",
   "execution_count": 9,
   "id": "52bb23a3-0460-4d57-8ef7-0a3cd3d00fef",
   "metadata": {
    "tags": []
   },
   "outputs": [
    {
     "data": {
      "text/html": [
       "<div>\n",
       "<style scoped>\n",
       "    .dataframe tbody tr th:only-of-type {\n",
       "        vertical-align: middle;\n",
       "    }\n",
       "\n",
       "    .dataframe tbody tr th {\n",
       "        vertical-align: top;\n",
       "    }\n",
       "\n",
       "    .dataframe thead th {\n",
       "        text-align: right;\n",
       "    }\n",
       "</style>\n",
       "<table border=\"1\" class=\"dataframe\">\n",
       "  <thead>\n",
       "    <tr style=\"text-align: right;\">\n",
       "      <th></th>\n",
       "      <th>Cement</th>\n",
       "      <th>Blast Furnace Slag</th>\n",
       "      <th>Fly Ash</th>\n",
       "      <th>Water</th>\n",
       "      <th>Superplasticizer</th>\n",
       "      <th>Coarse Aggregate</th>\n",
       "      <th>Fine Aggregate</th>\n",
       "      <th>Age</th>\n",
       "    </tr>\n",
       "  </thead>\n",
       "  <tbody>\n",
       "    <tr>\n",
       "      <th>0</th>\n",
       "      <td>2.476712</td>\n",
       "      <td>-0.856472</td>\n",
       "      <td>-0.846733</td>\n",
       "      <td>-0.916319</td>\n",
       "      <td>-0.620147</td>\n",
       "      <td>0.862735</td>\n",
       "      <td>-1.217079</td>\n",
       "      <td>-0.279597</td>\n",
       "    </tr>\n",
       "    <tr>\n",
       "      <th>1</th>\n",
       "      <td>2.476712</td>\n",
       "      <td>-0.856472</td>\n",
       "      <td>-0.846733</td>\n",
       "      <td>-0.916319</td>\n",
       "      <td>-0.620147</td>\n",
       "      <td>1.055651</td>\n",
       "      <td>-1.217079</td>\n",
       "      <td>-0.279597</td>\n",
       "    </tr>\n",
       "    <tr>\n",
       "      <th>2</th>\n",
       "      <td>0.491187</td>\n",
       "      <td>0.795140</td>\n",
       "      <td>-0.846733</td>\n",
       "      <td>2.174405</td>\n",
       "      <td>-1.038638</td>\n",
       "      <td>-0.526262</td>\n",
       "      <td>-2.239829</td>\n",
       "      <td>3.551340</td>\n",
       "    </tr>\n",
       "    <tr>\n",
       "      <th>3</th>\n",
       "      <td>0.491187</td>\n",
       "      <td>0.795140</td>\n",
       "      <td>-0.846733</td>\n",
       "      <td>2.174405</td>\n",
       "      <td>-1.038638</td>\n",
       "      <td>-0.526262</td>\n",
       "      <td>-2.239829</td>\n",
       "      <td>5.055221</td>\n",
       "    </tr>\n",
       "    <tr>\n",
       "      <th>4</th>\n",
       "      <td>-0.790075</td>\n",
       "      <td>0.678079</td>\n",
       "      <td>-0.846733</td>\n",
       "      <td>0.488555</td>\n",
       "      <td>-1.038638</td>\n",
       "      <td>0.070492</td>\n",
       "      <td>0.647569</td>\n",
       "      <td>4.976069</td>\n",
       "    </tr>\n",
       "  </tbody>\n",
       "</table>\n",
       "</div>"
      ],
      "text/plain": [
       "     Cement  Blast Furnace Slag   Fly Ash     Water  Superplasticizer  \\\n",
       "0  2.476712           -0.856472 -0.846733 -0.916319         -0.620147   \n",
       "1  2.476712           -0.856472 -0.846733 -0.916319         -0.620147   \n",
       "2  0.491187            0.795140 -0.846733  2.174405         -1.038638   \n",
       "3  0.491187            0.795140 -0.846733  2.174405         -1.038638   \n",
       "4 -0.790075            0.678079 -0.846733  0.488555         -1.038638   \n",
       "\n",
       "   Coarse Aggregate  Fine Aggregate       Age  \n",
       "0          0.862735       -1.217079 -0.279597  \n",
       "1          1.055651       -1.217079 -0.279597  \n",
       "2         -0.526262       -2.239829  3.551340  \n",
       "3         -0.526262       -2.239829  5.055221  \n",
       "4          0.070492        0.647569  4.976069  "
      ]
     },
     "execution_count": 9,
     "metadata": {},
     "output_type": "execute_result"
    }
   ],
   "source": [
    "predictors_norm = (predictors - predictors.mean()) / predictors.std()\n",
    "predictors_norm.head()"
   ]
  },
  {
   "cell_type": "code",
   "execution_count": 10,
   "id": "6001df24-7a96-47ec-a339-06247fad91ca",
   "metadata": {
    "tags": []
   },
   "outputs": [
    {
     "data": {
      "text/plain": [
       "8"
      ]
     },
     "execution_count": 10,
     "metadata": {},
     "output_type": "execute_result"
    }
   ],
   "source": [
    "#Save number of columns\n",
    "n_cols = predictors_norm.shape[1]\n",
    "n_cols"
   ]
  },
  {
   "cell_type": "code",
   "execution_count": 11,
   "id": "ab1792c7-f35d-45cd-a155-1b1d54327f34",
   "metadata": {
    "tags": []
   },
   "outputs": [
    {
     "name": "stderr",
     "output_type": "stream",
     "text": [
      "Using TensorFlow backend.\n",
      "/home/jupyterlab/conda/envs/python/lib/python3.7/site-packages/tensorflow/python/framework/dtypes.py:516: FutureWarning: Passing (type, 1) or '1type' as a synonym of type is deprecated; in a future version of numpy, it will be understood as (type, (1,)) / '(1,)type'.\n",
      "  _np_qint8 = np.dtype([(\"qint8\", np.int8, 1)])\n",
      "/home/jupyterlab/conda/envs/python/lib/python3.7/site-packages/tensorflow/python/framework/dtypes.py:517: FutureWarning: Passing (type, 1) or '1type' as a synonym of type is deprecated; in a future version of numpy, it will be understood as (type, (1,)) / '(1,)type'.\n",
      "  _np_quint8 = np.dtype([(\"quint8\", np.uint8, 1)])\n",
      "/home/jupyterlab/conda/envs/python/lib/python3.7/site-packages/tensorflow/python/framework/dtypes.py:518: FutureWarning: Passing (type, 1) or '1type' as a synonym of type is deprecated; in a future version of numpy, it will be understood as (type, (1,)) / '(1,)type'.\n",
      "  _np_qint16 = np.dtype([(\"qint16\", np.int16, 1)])\n",
      "/home/jupyterlab/conda/envs/python/lib/python3.7/site-packages/tensorflow/python/framework/dtypes.py:519: FutureWarning: Passing (type, 1) or '1type' as a synonym of type is deprecated; in a future version of numpy, it will be understood as (type, (1,)) / '(1,)type'.\n",
      "  _np_quint16 = np.dtype([(\"quint16\", np.uint16, 1)])\n",
      "/home/jupyterlab/conda/envs/python/lib/python3.7/site-packages/tensorflow/python/framework/dtypes.py:520: FutureWarning: Passing (type, 1) or '1type' as a synonym of type is deprecated; in a future version of numpy, it will be understood as (type, (1,)) / '(1,)type'.\n",
      "  _np_qint32 = np.dtype([(\"qint32\", np.int32, 1)])\n",
      "/home/jupyterlab/conda/envs/python/lib/python3.7/site-packages/tensorflow/python/framework/dtypes.py:525: FutureWarning: Passing (type, 1) or '1type' as a synonym of type is deprecated; in a future version of numpy, it will be understood as (type, (1,)) / '(1,)type'.\n",
      "  np_resource = np.dtype([(\"resource\", np.ubyte, 1)])\n",
      "/home/jupyterlab/conda/envs/python/lib/python3.7/site-packages/tensorboard/compat/tensorflow_stub/dtypes.py:541: FutureWarning: Passing (type, 1) or '1type' as a synonym of type is deprecated; in a future version of numpy, it will be understood as (type, (1,)) / '(1,)type'.\n",
      "  _np_qint8 = np.dtype([(\"qint8\", np.int8, 1)])\n",
      "/home/jupyterlab/conda/envs/python/lib/python3.7/site-packages/tensorboard/compat/tensorflow_stub/dtypes.py:542: FutureWarning: Passing (type, 1) or '1type' as a synonym of type is deprecated; in a future version of numpy, it will be understood as (type, (1,)) / '(1,)type'.\n",
      "  _np_quint8 = np.dtype([(\"quint8\", np.uint8, 1)])\n",
      "/home/jupyterlab/conda/envs/python/lib/python3.7/site-packages/tensorboard/compat/tensorflow_stub/dtypes.py:543: FutureWarning: Passing (type, 1) or '1type' as a synonym of type is deprecated; in a future version of numpy, it will be understood as (type, (1,)) / '(1,)type'.\n",
      "  _np_qint16 = np.dtype([(\"qint16\", np.int16, 1)])\n",
      "/home/jupyterlab/conda/envs/python/lib/python3.7/site-packages/tensorboard/compat/tensorflow_stub/dtypes.py:544: FutureWarning: Passing (type, 1) or '1type' as a synonym of type is deprecated; in a future version of numpy, it will be understood as (type, (1,)) / '(1,)type'.\n",
      "  _np_quint16 = np.dtype([(\"quint16\", np.uint16, 1)])\n",
      "/home/jupyterlab/conda/envs/python/lib/python3.7/site-packages/tensorboard/compat/tensorflow_stub/dtypes.py:545: FutureWarning: Passing (type, 1) or '1type' as a synonym of type is deprecated; in a future version of numpy, it will be understood as (type, (1,)) / '(1,)type'.\n",
      "  _np_qint32 = np.dtype([(\"qint32\", np.int32, 1)])\n",
      "/home/jupyterlab/conda/envs/python/lib/python3.7/site-packages/tensorboard/compat/tensorflow_stub/dtypes.py:550: FutureWarning: Passing (type, 1) or '1type' as a synonym of type is deprecated; in a future version of numpy, it will be understood as (type, (1,)) / '(1,)type'.\n",
      "  np_resource = np.dtype([(\"resource\", np.ubyte, 1)])\n"
     ]
    }
   ],
   "source": [
    "import keras\n",
    "from keras.models import Sequential \n",
    "from keras.layers import Dense"
   ]
  },
  {
   "cell_type": "markdown",
   "id": "d42fb9db-caf1-403a-add0-c4d62d617dbd",
   "metadata": {},
   "source": [
    "## Build neural network"
   ]
  },
  {
   "cell_type": "markdown",
   "id": "d02a54aa-85c5-4d29-9a2b-f199d329abc6",
   "metadata": {
    "tags": []
   },
   "source": [
    "Define regression model"
   ]
  },
  {
   "cell_type": "code",
   "execution_count": 12,
   "id": "4bf17327-4488-4be0-bde8-a4de0efcc23b",
   "metadata": {
    "tags": []
   },
   "outputs": [],
   "source": [
    "def regression_model():\n",
    "    model = Sequential()\n",
    "    model.add(Dense(10, activation='relu', input_shape=(n_cols,)))\n",
    "    model.add(Dense(10, activation='relu'))\n",
    "    model.add(Dense(10, activation='relu'))\n",
    "    model.add(Dense(1))\n",
    "    \n",
    "    model.compile(optimizer='adam', loss= 'mean_squared_error')\n",
    "    return model"
   ]
  },
  {
   "cell_type": "markdown",
   "id": "911863b7-afd0-4301-a1de-178419f893d1",
   "metadata": {},
   "source": [
    "## Train the Network"
   ]
  },
  {
   "cell_type": "code",
   "execution_count": 34,
   "id": "51a9837e-a951-4127-b563-5150c987f9ad",
   "metadata": {
    "tags": []
   },
   "outputs": [],
   "source": [
    "#build the model\n",
    "model = regression_model()"
   ]
  },
  {
   "cell_type": "code",
   "execution_count": 35,
   "id": "e67b5404-a97d-49c3-9373-7645f8e02d29",
   "metadata": {
    "tags": []
   },
   "outputs": [
    {
     "name": "stdout",
     "output_type": "stream",
     "text": [
      "Training data.shape= (721, 8) Training Labels shape= (721,)\n",
      "Testing data shape= (309, 8)  Testing Labels shape= (309,)\n",
      "Training data.shape= (721, 8) Training Labels shape= (721,)\n",
      "Testing data shape= (309, 8)  Testing Labels shape= (309,)\n",
      "Training data.shape= (721, 8) Training Labels shape= (721,)\n",
      "Testing data shape= (309, 8)  Testing Labels shape= (309,)\n",
      "Training data.shape= (721, 8) Training Labels shape= (721,)\n",
      "Testing data shape= (309, 8)  Testing Labels shape= (309,)\n",
      "Training data.shape= (721, 8) Training Labels shape= (721,)\n",
      "Testing data shape= (309, 8)  Testing Labels shape= (309,)\n",
      "Training data.shape= (721, 8) Training Labels shape= (721,)\n",
      "Testing data shape= (309, 8)  Testing Labels shape= (309,)\n",
      "Training data.shape= (721, 8) Training Labels shape= (721,)\n",
      "Testing data shape= (309, 8)  Testing Labels shape= (309,)\n",
      "Training data.shape= (721, 8) Training Labels shape= (721,)\n",
      "Testing data shape= (309, 8)  Testing Labels shape= (309,)\n",
      "Training data.shape= (721, 8) Training Labels shape= (721,)\n",
      "Testing data shape= (309, 8)  Testing Labels shape= (309,)\n",
      "Training data.shape= (721, 8) Training Labels shape= (721,)\n",
      "Testing data shape= (309, 8)  Testing Labels shape= (309,)\n",
      "Training data.shape= (721, 8) Training Labels shape= (721,)\n",
      "Testing data shape= (309, 8)  Testing Labels shape= (309,)\n",
      "Training data.shape= (721, 8) Training Labels shape= (721,)\n",
      "Testing data shape= (309, 8)  Testing Labels shape= (309,)\n",
      "Training data.shape= (721, 8) Training Labels shape= (721,)\n",
      "Testing data shape= (309, 8)  Testing Labels shape= (309,)\n",
      "Training data.shape= (721, 8) Training Labels shape= (721,)\n",
      "Testing data shape= (309, 8)  Testing Labels shape= (309,)\n",
      "Training data.shape= (721, 8) Training Labels shape= (721,)\n",
      "Testing data shape= (309, 8)  Testing Labels shape= (309,)\n",
      "Training data.shape= (721, 8) Training Labels shape= (721,)\n",
      "Testing data shape= (309, 8)  Testing Labels shape= (309,)\n",
      "Training data.shape= (721, 8) Training Labels shape= (721,)\n",
      "Testing data shape= (309, 8)  Testing Labels shape= (309,)\n",
      "Training data.shape= (721, 8) Training Labels shape= (721,)\n",
      "Testing data shape= (309, 8)  Testing Labels shape= (309,)\n",
      "Training data.shape= (721, 8) Training Labels shape= (721,)\n",
      "Testing data shape= (309, 8)  Testing Labels shape= (309,)\n",
      "Training data.shape= (721, 8) Training Labels shape= (721,)\n",
      "Testing data shape= (309, 8)  Testing Labels shape= (309,)\n",
      "Training data.shape= (721, 8) Training Labels shape= (721,)\n",
      "Testing data shape= (309, 8)  Testing Labels shape= (309,)\n",
      "Training data.shape= (721, 8) Training Labels shape= (721,)\n",
      "Testing data shape= (309, 8)  Testing Labels shape= (309,)\n",
      "Training data.shape= (721, 8) Training Labels shape= (721,)\n",
      "Testing data shape= (309, 8)  Testing Labels shape= (309,)\n",
      "Training data.shape= (721, 8) Training Labels shape= (721,)\n",
      "Testing data shape= (309, 8)  Testing Labels shape= (309,)\n",
      "Training data.shape= (721, 8) Training Labels shape= (721,)\n",
      "Testing data shape= (309, 8)  Testing Labels shape= (309,)\n",
      "Training data.shape= (721, 8) Training Labels shape= (721,)\n",
      "Testing data shape= (309, 8)  Testing Labels shape= (309,)\n",
      "Training data.shape= (721, 8) Training Labels shape= (721,)\n",
      "Testing data shape= (309, 8)  Testing Labels shape= (309,)\n",
      "Training data.shape= (721, 8) Training Labels shape= (721,)\n",
      "Testing data shape= (309, 8)  Testing Labels shape= (309,)\n",
      "Training data.shape= (721, 8) Training Labels shape= (721,)\n",
      "Testing data shape= (309, 8)  Testing Labels shape= (309,)\n",
      "Training data.shape= (721, 8) Training Labels shape= (721,)\n",
      "Testing data shape= (309, 8)  Testing Labels shape= (309,)\n",
      "Training data.shape= (721, 8) Training Labels shape= (721,)\n",
      "Testing data shape= (309, 8)  Testing Labels shape= (309,)\n",
      "Training data.shape= (721, 8) Training Labels shape= (721,)\n",
      "Testing data shape= (309, 8)  Testing Labels shape= (309,)\n",
      "Training data.shape= (721, 8) Training Labels shape= (721,)\n",
      "Testing data shape= (309, 8)  Testing Labels shape= (309,)\n",
      "Training data.shape= (721, 8) Training Labels shape= (721,)\n",
      "Testing data shape= (309, 8)  Testing Labels shape= (309,)\n",
      "Training data.shape= (721, 8) Training Labels shape= (721,)\n",
      "Testing data shape= (309, 8)  Testing Labels shape= (309,)\n",
      "Training data.shape= (721, 8) Training Labels shape= (721,)\n",
      "Testing data shape= (309, 8)  Testing Labels shape= (309,)\n",
      "Training data.shape= (721, 8) Training Labels shape= (721,)\n",
      "Testing data shape= (309, 8)  Testing Labels shape= (309,)\n",
      "Training data.shape= (721, 8) Training Labels shape= (721,)\n",
      "Testing data shape= (309, 8)  Testing Labels shape= (309,)\n",
      "Training data.shape= (721, 8) Training Labels shape= (721,)\n",
      "Testing data shape= (309, 8)  Testing Labels shape= (309,)\n",
      "Training data.shape= (721, 8) Training Labels shape= (721,)\n",
      "Testing data shape= (309, 8)  Testing Labels shape= (309,)\n",
      "Training data.shape= (721, 8) Training Labels shape= (721,)\n",
      "Testing data shape= (309, 8)  Testing Labels shape= (309,)\n",
      "Training data.shape= (721, 8) Training Labels shape= (721,)\n",
      "Testing data shape= (309, 8)  Testing Labels shape= (309,)\n",
      "Training data.shape= (721, 8) Training Labels shape= (721,)\n",
      "Testing data shape= (309, 8)  Testing Labels shape= (309,)\n",
      "Training data.shape= (721, 8) Training Labels shape= (721,)\n",
      "Testing data shape= (309, 8)  Testing Labels shape= (309,)\n",
      "Training data.shape= (721, 8) Training Labels shape= (721,)\n",
      "Testing data shape= (309, 8)  Testing Labels shape= (309,)\n",
      "Training data.shape= (721, 8) Training Labels shape= (721,)\n",
      "Testing data shape= (309, 8)  Testing Labels shape= (309,)\n",
      "Training data.shape= (721, 8) Training Labels shape= (721,)\n",
      "Testing data shape= (309, 8)  Testing Labels shape= (309,)\n",
      "Training data.shape= (721, 8) Training Labels shape= (721,)\n",
      "Testing data shape= (309, 8)  Testing Labels shape= (309,)\n",
      "Training data.shape= (721, 8) Training Labels shape= (721,)\n",
      "Testing data shape= (309, 8)  Testing Labels shape= (309,)\n",
      "Training data.shape= (721, 8) Training Labels shape= (721,)\n",
      "Testing data shape= (309, 8)  Testing Labels shape= (309,)\n",
      "Mean of Mean Squared Errors: 43.00403287124882\n",
      "Standard Deviation of Mean Squared Errors: 7.483875765364484\n"
     ]
    }
   ],
   "source": [
    "mse_list = []\n",
    "\n",
    "for _ in range(50):\n",
    "    X_train, X_test, y_train, y_test = train_test_split(predictors_norm, target, test_size=0.3, random_state=40)\n",
    "    print('Training data.shape=', X_train.shape, 'Training Labels shape=', y_train.shape)\n",
    "    print('Testing data shape=', X_test.shape, ' Testing Labels shape=', y_test.shape)\n",
    "\n",
    "    model.fit(X_train, y_train, epochs=100, verbose=0)\n",
    "\n",
    "    y_pred = model.predict(X_test)\n",
    "    mse = mean_squared_error(y_test, y_pred)\n",
    "    mse_list.append(mse)\n",
    "\n",
    "mean_mse = np.mean(mse_list)\n",
    "std_mse = np.std(mse_list)\n",
    "\n",
    "print(\"Mean of Mean Squared Errors:\", mean_mse)\n",
    "print(\"Standard Deviation of Mean Squared Errors:\", std_mse)\n"
   ]
  },
  {
   "cell_type": "markdown",
   "id": "98140096-4f40-4d7e-ba4e-0052da49a5d3",
   "metadata": {},
   "source": [
    "_Observation_"
   ]
  },
  {
   "cell_type": "markdown",
   "id": "d227948c-077a-4771-a42f-7734efb81e98",
   "metadata": {
    "tags": []
   },
   "source": [
    "When using 100 epochs and 3 layer neural network with 10 nodes each:\n",
    "    \n",
    "Mean of Mean Squared Errors: 43.00403287124882\n",
    "\n",
    "Standard Deviation of Mean Squared Errors: 7.483875765364484"
   ]
  },
  {
   "cell_type": "markdown",
   "id": "2f68162f-214a-4ea5-8e31-a818aa95cdee",
   "metadata": {},
   "source": [
    "### Choosing the number of hidden layers\n",
    "Using the rule of thumb number of hidden layers should be close to (inputs+outputs) * 2/3, I chose to use 6 hidden layers"
   ]
  },
  {
   "cell_type": "code",
   "execution_count": 38,
   "id": "280fbad1-8be7-44a8-91c6-45a12b6b1cf2",
   "metadata": {
    "tags": []
   },
   "outputs": [],
   "source": [
    "def regression_model2():\n",
    "    model = Sequential()\n",
    "    model.add(Dense(10, activation='relu', input_shape=(n_cols,)))\n",
    "    model.add(Dense(10, activation='relu'))\n",
    "    model.add(Dense(10, activation='relu'))\n",
    "    model.add(Dense(10, activation='relu'))\n",
    "    model.add(Dense(10, activation='relu'))\n",
    "    model.add(Dense(10, activation='relu'))\n",
    "    model.add(Dense(1))\n",
    "    \n",
    "    model.compile(optimizer='adam', loss= 'mean_squared_error')\n",
    "    return model"
   ]
  },
  {
   "cell_type": "code",
   "execution_count": 39,
   "id": "ed82a2a4-ea3d-4884-9f85-4318c91ceb91",
   "metadata": {
    "tags": []
   },
   "outputs": [],
   "source": [
    "model2 = regression_model2()"
   ]
  },
  {
   "cell_type": "code",
   "execution_count": 42,
   "id": "6928dfda-bdc8-4aa7-a5d0-7f42ec90d06f",
   "metadata": {
    "tags": []
   },
   "outputs": [
    {
     "name": "stdout",
     "output_type": "stream",
     "text": [
      "Training data.shape= (721, 8) Training Labels shape= (721,)\n",
      "Testing data shape= (309, 8)  Testing Labels shape= (309,)\n",
      "Mean of Mean Squared Errors: 38.073708632343894\n",
      "Standard Deviation of Mean Squared Errors: 3.7104461046908717\n"
     ]
    }
   ],
   "source": [
    "mse_list = []\n",
    "\n",
    "X_train, X_test, y_train, y_test = train_test_split(predictors_norm, target, test_size=0.3, random_state=40)\n",
    "print('Training data.shape=', X_train.shape, 'Training Labels shape=', y_train.shape)\n",
    "print('Testing data shape=', X_test.shape, ' Testing Labels shape=', y_test.shape)\n",
    "\n",
    "for _ in range(50):\n",
    "\n",
    "    model2.fit(X_train, y_train, epochs=100, verbose=0)\n",
    "\n",
    "    y_pred = model2.predict(X_test)\n",
    "    mse = mean_squared_error(y_test, y_pred)\n",
    "    mse_list.append(mse)\n",
    "\n",
    "mean_mse = np.mean(mse_list)\n",
    "std_mse = np.std(mse_list)\n",
    "\n",
    "print(\"Mean of Mean Squared Errors:\", mean_mse)\n",
    "print(\"Standard Deviation of Mean Squared Errors:\", std_mse)\n"
   ]
  },
  {
   "cell_type": "markdown",
   "id": "fad6039b-0157-47e0-81c8-02a7de2d4286",
   "metadata": {},
   "source": [
    "_Observation_\n",
    "\n",
    "Mean of Mean Squared Errors: 38.073708632343894\n",
    "\n",
    "Standard Deviation of Mean Squared Errors: 3.7104461046908717"
   ]
  },
  {
   "cell_type": "markdown",
   "id": "01cb6f96-93bb-46bf-bc2e-ad2deb10d5d4",
   "metadata": {},
   "source": [
    "### Increase the number of nodes per hidden layer"
   ]
  },
  {
   "cell_type": "code",
   "execution_count": 49,
   "id": "d68adf37-20b4-4a0a-a8ab-394e4abc7eda",
   "metadata": {
    "tags": []
   },
   "outputs": [],
   "source": [
    "def regression_model3():\n",
    "    model = Sequential()\n",
    "    model.add(Dense(50, activation='relu', input_shape=(n_cols,)))\n",
    "    model.add(Dense(50, activation='relu'))\n",
    "    model.add(Dense(50, activation='relu'))\n",
    "    model.add(Dense(50, activation='relu'))\n",
    "    model.add(Dense(50, activation='relu'))\n",
    "    model.add(Dense(50, activation='relu'))\n",
    "    model.add(Dense(1))\n",
    "    \n",
    "    model.compile(optimizer='adam', loss= 'mean_squared_error')\n",
    "    return model"
   ]
  },
  {
   "cell_type": "code",
   "execution_count": 50,
   "id": "b2c9fb28-11d1-49f0-a5c7-7e36da72c4c8",
   "metadata": {
    "tags": []
   },
   "outputs": [
    {
     "name": "stdout",
     "output_type": "stream",
     "text": [
      "Training data.shape= (721, 8) Training Labels shape= (721,)\n",
      "Testing data shape= (309, 8)  Testing Labels shape= (309,)\n",
      "Mean of Mean Squared Errors: 28.333912386021094\n",
      "Standard Deviation of Mean Squared Errors: 1.840202966910573\n"
     ]
    }
   ],
   "source": [
    "model3 = regression_model3()\n",
    "mse_list = []\n",
    "\n",
    "X_train, X_test, y_train, y_test = train_test_split(predictors_norm, target, test_size=0.3, random_state=40)\n",
    "print('Training data.shape=', X_train.shape, 'Training Labels shape=', y_train.shape)\n",
    "print('Testing data shape=', X_test.shape, ' Testing Labels shape=', y_test.shape)\n",
    "\n",
    "for _ in range(50):\n",
    "\n",
    "    model3.fit(X_train, y_train, epochs=100, verbose=0)\n",
    "\n",
    "    y_pred = model3.predict(X_test)\n",
    "    mse = mean_squared_error(y_test, y_pred)\n",
    "    mse_list.append(mse)\n",
    "\n",
    "mean_mse = np.mean(mse_list)\n",
    "std_mse = np.std(mse_list)\n",
    "\n",
    "print(\"Mean of Mean Squared Errors:\", mean_mse)\n",
    "print(\"Standard Deviation of Mean Squared Errors:\", std_mse)\n"
   ]
  },
  {
   "cell_type": "markdown",
   "id": "0b7e2467-7ef0-4ffa-b0bb-70d8fb52176f",
   "metadata": {},
   "source": [
    "_Observation_\n",
    "\n",
    "The Mean of Mean Squared Errors has dropped by approximately 10 units to 28.333912386021094\n"
   ]
  },
  {
   "cell_type": "markdown",
   "id": "fb2091e6-ead8-40a8-9149-af25441299a0",
   "metadata": {},
   "source": [
    "### Futher increase the number of nodes per layer\n",
    "Doubled the number of nodes per layer to 100"
   ]
  },
  {
   "cell_type": "code",
   "execution_count": 20,
   "id": "d57bd879-5c47-4bcf-8a94-c6e122eecf79",
   "metadata": {
    "tags": []
   },
   "outputs": [],
   "source": [
    "def regression_model4():\n",
    "    model = Sequential()\n",
    "    model.add(Dense(100, activation='relu', input_shape=(n_cols,)))\n",
    "    model.add(Dense(100, activation='relu'))\n",
    "    model.add(Dense(100, activation='relu'))\n",
    "    model.add(Dense(100, activation='relu'))\n",
    "    model.add(Dense(100, activation='relu'))\n",
    "    model.add(Dense(100, activation='relu'))\n",
    "    model.add(Dense(1))\n",
    "    \n",
    "    model.compile(optimizer='adam', loss= 'mean_squared_error')\n",
    "    return model"
   ]
  },
  {
   "cell_type": "code",
   "execution_count": 13,
   "id": "adea0505-3e85-4b26-aae0-f7fa95f87268",
   "metadata": {
    "tags": []
   },
   "outputs": [
    {
     "name": "stdout",
     "output_type": "stream",
     "text": [
      "WARNING:tensorflow:From /home/jupyterlab/conda/envs/python/lib/python3.7/site-packages/keras/backend/tensorflow_backend.py:68: The name tf.get_default_graph is deprecated. Please use tf.compat.v1.get_default_graph instead.\n",
      "\n",
      "WARNING:tensorflow:From /home/jupyterlab/conda/envs/python/lib/python3.7/site-packages/keras/backend/tensorflow_backend.py:508: The name tf.placeholder is deprecated. Please use tf.compat.v1.placeholder instead.\n",
      "\n",
      "WARNING:tensorflow:From /home/jupyterlab/conda/envs/python/lib/python3.7/site-packages/keras/backend/tensorflow_backend.py:3837: The name tf.random_uniform is deprecated. Please use tf.random.uniform instead.\n",
      "\n",
      "WARNING:tensorflow:From /home/jupyterlab/conda/envs/python/lib/python3.7/site-packages/keras/optimizers.py:757: The name tf.train.Optimizer is deprecated. Please use tf.compat.v1.train.Optimizer instead.\n",
      "\n",
      "Training data.shape= (721, 8) Training Labels shape= (721,)\n",
      "Testing data shape= (309, 8)  Testing Labels shape= (309,)\n",
      "WARNING:tensorflow:From /home/jupyterlab/conda/envs/python/lib/python3.7/site-packages/keras/backend/tensorflow_backend.py:977: The name tf.assign_add is deprecated. Please use tf.compat.v1.assign_add instead.\n",
      "\n",
      "WARNING:tensorflow:From /home/jupyterlab/conda/envs/python/lib/python3.7/site-packages/keras/backend/tensorflow_backend.py:964: The name tf.assign is deprecated. Please use tf.compat.v1.assign instead.\n",
      "\n"
     ]
    },
    {
     "name": "stderr",
     "output_type": "stream",
     "text": [
      "2023-06-13 16:17:44.464405: I tensorflow/core/platform/cpu_feature_guard.cc:142] Your CPU supports instructions that this TensorFlow binary was not compiled to use: SSE4.1 SSE4.2 AVX AVX2 AVX512F FMA\n",
      "2023-06-13 16:17:44.470288: I tensorflow/core/platform/profile_utils/cpu_utils.cc:94] CPU Frequency: 2394310000 Hz\n",
      "2023-06-13 16:17:44.471146: I tensorflow/compiler/xla/service/service.cc:168] XLA service 0x55e22de3a6b0 executing computations on platform Host. Devices:\n",
      "2023-06-13 16:17:44.471223: I tensorflow/compiler/xla/service/service.cc:175]   StreamExecutor device (0): <undefined>, <undefined>\n",
      "2023-06-13 16:17:44.654722: W tensorflow/compiler/jit/mark_for_compilation_pass.cc:1412] (One-time warning): Not using XLA:CPU for cluster because envvar TF_XLA_FLAGS=--tf_xla_cpu_global_jit was not set.  If you want XLA:CPU, either set that envvar, or use experimental_jit_scope to enable XLA:CPU.  To confirm that XLA is active, pass --vmodule=xla_compilation_cache=1 (as a proper command-line flag, not via TF_XLA_FLAGS) or set the envvar XLA_FLAGS=--xla_hlo_profile.\n"
     ]
    },
    {
     "name": "stdout",
     "output_type": "stream",
     "text": [
      "Mean of Mean Squared Errors: 23.83200302637062\n",
      "Standard Deviation of Mean Squared Errors: 1.273735259233312\n"
     ]
    }
   ],
   "source": [
    "model4 = regression_model4()\n",
    "mse_list = []\n",
    "\n",
    "X_train, X_test, y_train, y_test = train_test_split(predictors_norm, target, test_size=0.3, random_state=40)\n",
    "print('Training data.shape=', X_train.shape, 'Training Labels shape=', y_train.shape)\n",
    "print('Testing data shape=', X_test.shape, ' Testing Labels shape=', y_test.shape)\n",
    "\n",
    "for _ in range(50):\n",
    "\n",
    "    model4.fit(X_train, y_train, epochs=100, verbose=0)\n",
    "\n",
    "    y_pred = model4.predict(X_test)\n",
    "    mse = mean_squared_error(y_test, y_pred)\n",
    "    mse_list.append(mse)\n",
    "\n",
    "mean_mse = np.mean(mse_list)\n",
    "std_mse = np.std(mse_list)\n",
    "\n",
    "print(\"Mean of Mean Squared Errors:\", mean_mse)\n",
    "print(\"Standard Deviation of Mean Squared Errors:\", std_mse)\n"
   ]
  },
  {
   "cell_type": "markdown",
   "id": "b380e221-ea10-43f0-80a5-c050b6413586",
   "metadata": {
    "tags": []
   },
   "source": [
    "_Observation_\n",
    "\n",
    "Doubling the number of nodes per layer to 100 improved the model's accuracy from 28.333912386021094 to 23.83200302637062\n",
    "\n",
    "Accuracy improved but rate of improvement in the model's accuracy is starting to lower with the increase in the number if nodes. "
   ]
  },
  {
   "cell_type": "markdown",
   "id": "b5449859-ad12-4a37-993b-3ed36ad0f191",
   "metadata": {},
   "source": [
    "## Increse the number of layers as well\n",
    "Increased the number of layers to 7"
   ]
  },
  {
   "cell_type": "code",
   "execution_count": 14,
   "id": "abd476c7-663c-4f9b-b4a7-4392d01c9aa4",
   "metadata": {
    "tags": []
   },
   "outputs": [],
   "source": [
    "def regression_model5():\n",
    "    model = Sequential()\n",
    "    model.add(Dense(100, activation='relu', input_shape=(n_cols,)))\n",
    "    model.add(Dense(100, activation='relu'))\n",
    "    model.add(Dense(100, activation='relu'))\n",
    "    model.add(Dense(100, activation='relu'))\n",
    "    model.add(Dense(100, activation='relu'))\n",
    "    model.add(Dense(100, activation='relu'))\n",
    "    model.add(Dense(100, activation='relu'))\n",
    "    model.add(Dense(1))\n",
    "    \n",
    "    model.compile(optimizer='adam', loss= 'mean_squared_error')\n",
    "    return model"
   ]
  },
  {
   "cell_type": "code",
   "execution_count": 15,
   "id": "cd369c8c-c777-43e9-986d-bd0e0bd55368",
   "metadata": {
    "tags": []
   },
   "outputs": [
    {
     "name": "stdout",
     "output_type": "stream",
     "text": [
      "Training data.shape= (721, 8) Training Labels shape= (721,)\n",
      "Testing data shape= (309, 8)  Testing Labels shape= (309,)\n",
      "Mean of Mean Squared Errors: 26.591513116933896\n",
      "Standard Deviation of Mean Squared Errors: 1.3615064304756817\n"
     ]
    }
   ],
   "source": [
    "model5 = regression_model5()\n",
    "mse_list = []\n",
    "X_train, X_test, y_train, y_test = train_test_split(predictors_norm, target, test_size=0.3, random_state=40)\n",
    "print('Training data.shape=', X_train.shape, 'Training Labels shape=', y_train.shape)\n",
    "print('Testing data shape=', X_test.shape, ' Testing Labels shape=', y_test.shape)\n",
    "\n",
    "for _ in range(50):\n",
    "\n",
    "    model5.fit(X_train, y_train, epochs=100, verbose=0)\n",
    "\n",
    "    y_pred = model5.predict(X_test)\n",
    "    mse = mean_squared_error(y_test, y_pred)\n",
    "    mse_list.append(mse)\n",
    "\n",
    "mean_mse = np.mean(mse_list)\n",
    "std_mse = np.std(mse_list)\n",
    "\n",
    "print(\"Mean of Mean Squared Errors:\", mean_mse)\n",
    "print(\"Standard Deviation of Mean Squared Errors:\", std_mse)\n"
   ]
  },
  {
   "cell_type": "markdown",
   "id": "e5cfde20-bc49-4460-9cf9-dab44096f571",
   "metadata": {},
   "source": [
    "_Observation_\n",
    "\n",
    "Mean of Mean Squared Errors: 26.591513116933896\n",
    "\n",
    "Standard Deviation of Mean Squared Errors: 1.3615064304756817\n",
    "\n",
    "Increasing the number of layers beyond 6 does not improve the accuracy"
   ]
  },
  {
   "cell_type": "markdown",
   "id": "3287269f-f93a-4e7a-bed6-c2ac406d0615",
   "metadata": {},
   "source": [
    "### Decrease the hidden layers"
   ]
  },
  {
   "cell_type": "code",
   "execution_count": 16,
   "id": "e9847459-d04a-4e9b-bd28-9ccb5f997685",
   "metadata": {
    "tags": []
   },
   "outputs": [],
   "source": [
    "def regression_model6():\n",
    "    model = Sequential()\n",
    "    model.add(Dense(100, activation='relu', input_shape=(n_cols,)))\n",
    "    model.add(Dense(100, activation='relu'))\n",
    "    model.add(Dense(100, activation='relu'))\n",
    "    model.add(Dense(100, activation='relu'))\n",
    "    model.add(Dense(100, activation='relu'))\n",
    "    model.add(Dense(1))\n",
    "    \n",
    "    model.compile(optimizer='adam', loss= 'mean_squared_error')\n",
    "    return model"
   ]
  },
  {
   "cell_type": "code",
   "execution_count": 17,
   "id": "1839f23f-d0cd-48f7-9e66-a497a5dc0200",
   "metadata": {
    "tags": []
   },
   "outputs": [
    {
     "name": "stdout",
     "output_type": "stream",
     "text": [
      "Training data.shape= (721, 8) Training Labels shape= (721,)\n",
      "Testing data shape= (309, 8)  Testing Labels shape= (309,)\n",
      "Mean of Mean Squared Errors: 26.373374888555258\n",
      "Standard Deviation of Mean Squared Errors: 1.1181505655426052\n"
     ]
    }
   ],
   "source": [
    "model4 = regression_model6()\n",
    "mse_list = []\n",
    "X_train, X_test, y_train, y_test = train_test_split(predictors_norm, target, test_size=0.3, random_state=40)\n",
    "print('Training data.shape=', X_train.shape, 'Training Labels shape=', y_train.shape)\n",
    "print('Testing data shape=', X_test.shape, ' Testing Labels shape=', y_test.shape)\n",
    "\n",
    "for _ in range(50):\n",
    "\n",
    "    model4.fit(X_train, y_train, epochs=100, verbose=0)\n",
    "\n",
    "    y_pred = model4.predict(X_test)\n",
    "    mse = mean_squared_error(y_test, y_pred)\n",
    "    mse_list.append(mse)\n",
    "\n",
    "mean_mse = np.mean(mse_list)\n",
    "std_mse = np.std(mse_list)\n",
    "\n",
    "print(\"Mean of Mean Squared Errors:\", mean_mse)\n",
    "print(\"Standard Deviation of Mean Squared Errors:\", std_mse)\n"
   ]
  },
  {
   "cell_type": "markdown",
   "id": "741ec405-ba81-4c70-b3ef-ded5e771c24f",
   "metadata": {},
   "source": [
    "_Observation_\n",
    "\n",
    "Mean of Mean Squared Errors: \n",
    "\n",
    "Standard Deviation of Mean Squared Errors:\n",
    "\n",
    "Decreasing the number of layers to 5 does not improve the accuracy"
   ]
  },
  {
   "cell_type": "markdown",
   "id": "1b039905-fe7b-4175-8b07-557aec18e16b",
   "metadata": {},
   "source": [
    "## Further increse number of nodes\n",
    "Increase the number of nodes to by 50 to 150"
   ]
  },
  {
   "cell_type": "code",
   "execution_count": 18,
   "id": "1f711c8e-bddd-4e58-ae8f-5d2de497830c",
   "metadata": {
    "tags": []
   },
   "outputs": [],
   "source": [
    "def regression_model4():\n",
    "    model = Sequential()\n",
    "    model.add(Dense(150, activation='relu', input_shape=(n_cols,)))\n",
    "    model.add(Dense(150, activation='relu'))\n",
    "    model.add(Dense(150, activation='relu'))\n",
    "    model.add(Dense(150, activation='relu'))\n",
    "    model.add(Dense(150, activation='relu'))\n",
    "    model.add(Dense(150, activation='relu'))\n",
    "    model.add(Dense(1))\n",
    "    \n",
    "    model.compile(optimizer='adam', loss= 'mean_squared_error')\n",
    "    return model"
   ]
  },
  {
   "cell_type": "code",
   "execution_count": 19,
   "id": "014c517a-a56e-4658-9ff8-47a22e00472d",
   "metadata": {
    "tags": []
   },
   "outputs": [
    {
     "name": "stdout",
     "output_type": "stream",
     "text": [
      "Training data.shape= (721, 8) Training Labels shape= (721,)\n",
      "Testing data shape= (309, 8)  Testing Labels shape= (309,)\n",
      "Mean of Mean Squared Errors: 24.269676917098867\n",
      "Standard Deviation of Mean Squared Errors: 1.8779429784943973\n"
     ]
    }
   ],
   "source": [
    "model4 = regression_model4()\n",
    "mse_list = []\n",
    "X_train, X_test, y_train, y_test = train_test_split(predictors_norm, target, test_size=0.3, random_state=40)\n",
    "print('Training data.shape=', X_train.shape, 'Training Labels shape=', y_train.shape)\n",
    "print('Testing data shape=', X_test.shape, ' Testing Labels shape=', y_test.shape)\n",
    "\n",
    "for _ in range(50):\n",
    "\n",
    "    model4.fit(X_train, y_train, epochs=100, verbose=0)\n",
    "\n",
    "    y_pred = model4.predict(X_test)\n",
    "    mse = mean_squared_error(y_test, y_pred)\n",
    "    mse_list.append(mse)\n",
    "\n",
    "mean_mse = np.mean(mse_list)\n",
    "std_mse = np.std(mse_list)\n",
    "\n",
    "print(\"Mean of Mean Squared Errors:\", mean_mse)\n",
    "print(\"Standard Deviation of Mean Squared Errors:\", std_mse)\n"
   ]
  },
  {
   "cell_type": "markdown",
   "id": "93291ae6-3cec-483b-9318-cf9d920ef9f9",
   "metadata": {},
   "source": [
    "_Observation_\n",
    "\n",
    "Mean of Mean Squared Errors: 24.269676917098867\n",
    "\n",
    "Standard Deviation of Mean Squared Errors: 1.8779429784943973\n",
    "Increasing the number of nodes per layer to 150 from 100 does not improve the accuracy"
   ]
  },
  {
   "cell_type": "markdown",
   "id": "da76c9c0-f3ea-4d44-bc08-4a8659c932aa",
   "metadata": {},
   "source": [
    "## Conclusion\n",
    "* The optimal number of hidden layers is (inputs+outputs) * 2/3 = 6\n",
    "* The optimal number of nodes per layer is 100\n",
    "\n",
    "Model 4 is the most accurate and sparse model with:\n",
    "\n",
    "Mean of Mean Squared Errors: 23.83200302637062  \n",
    "\n",
    "Standard Deviation of Mean Squared Errors: 1.273735259233312"
   ]
  },
  {
   "cell_type": "code",
   "execution_count": null,
   "id": "6d5d5b57-e184-4f0c-97bb-1b446c1fd91c",
   "metadata": {},
   "outputs": [],
   "source": []
  }
 ],
 "metadata": {
  "kernelspec": {
   "display_name": "Python",
   "language": "python",
   "name": "conda-env-python-py"
  },
  "language_info": {
   "codemirror_mode": {
    "name": "ipython",
    "version": 3
   },
   "file_extension": ".py",
   "mimetype": "text/x-python",
   "name": "python",
   "nbconvert_exporter": "python",
   "pygments_lexer": "ipython3",
   "version": "3.7.12"
  }
 },
 "nbformat": 4,
 "nbformat_minor": 5
}
